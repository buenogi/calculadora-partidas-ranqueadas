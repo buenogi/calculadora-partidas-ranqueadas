{
 "cells": [
  {
   "cell_type": "markdown",
   "metadata": {},
   "source": [
    "Definição das variáveis e requisição ao usuário"
   ]
  },
  {
   "cell_type": "code",
   "execution_count": 12,
   "metadata": {},
   "outputs": [],
   "source": [
    "vitorias = int(input(\"Informe o número de vitórias: \"))\n",
    "\n",
    "derrotas = int(input(\"Informe o número de derrotas: \"))      "
   ]
  },
  {
   "cell_type": "markdown",
   "metadata": {},
   "source": [
    "Definição da função:"
   ]
  },
  {
   "cell_type": "code",
   "execution_count": 13,
   "metadata": {},
   "outputs": [],
   "source": [
    "\n",
    "def calculadoraPR (vitorias, derrotas):\n",
    "    saldo = vitorias-derrotas\n",
    "    nivel = \"Indefinido\"\n",
    "    if saldo <= 10:\n",
    "        nivel = \"Ferro\"\n",
    "    else:\n",
    "        if saldo >= 11 & saldo <=20:\n",
    "            nivel = \"Bronze\"\n",
    "        else:\n",
    "            if  saldo >= 21 & saldo <=50:\n",
    "                nivel = \"Prata\"\n",
    "            else:\n",
    "                if 51 <= saldo <=80:\n",
    "                    nivel = \"Ouro\"\n",
    "                else:\n",
    "                    if 81 <= saldo <=90:\n",
    "                        nivel = \"Diamante\"\n",
    "                    else:\n",
    "                        if 91 <= saldo <=100:\n",
    "                            nivel = \"Lendário\"\n",
    "                        else:\n",
    "                            nivel = \"Imortal\"\n",
    "    return(f'O Herói tem saldo de {saldo}  pontos e está no nível {nivel}')"
   ]
  },
  {
   "cell_type": "markdown",
   "metadata": {},
   "source": [
    "Checagem da função"
   ]
  },
  {
   "cell_type": "code",
   "execution_count": 14,
   "metadata": {},
   "outputs": [
    {
     "data": {
      "text/plain": [
       "'O Herói tem saldo de 80  pontos e está no nível Bronze'"
      ]
     },
     "execution_count": 14,
     "metadata": {},
     "output_type": "execute_result"
    }
   ],
   "source": [
    "calculadoraPR(vitorias, derrotas)"
   ]
  }
 ],
 "metadata": {
  "kernelspec": {
   "display_name": "Python 3",
   "language": "python",
   "name": "python3"
  },
  "language_info": {
   "codemirror_mode": {
    "name": "ipython",
    "version": 3
   },
   "file_extension": ".py",
   "mimetype": "text/x-python",
   "name": "python",
   "nbconvert_exporter": "python",
   "pygments_lexer": "ipython3",
   "version": "3.8.10"
  }
 },
 "nbformat": 4,
 "nbformat_minor": 2
}
